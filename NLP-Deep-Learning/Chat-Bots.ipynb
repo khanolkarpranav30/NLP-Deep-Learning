{
 "cells": [
  {
   "cell_type": "markdown",
   "metadata": {},
   "source": [
    "# Question and Answer Chat Bots"
   ]
  },
  {
   "cell_type": "code",
   "execution_count": 1,
   "metadata": {},
   "outputs": [],
   "source": [
    "import pickle\n",
    "import numpy as np"
   ]
  },
  {
   "cell_type": "code",
   "execution_count": 2,
   "metadata": {},
   "outputs": [],
   "source": [
    "with open(\"train_qa.txt\", \"rb\") as fp:   # Unpickling\n",
    "    train_data =  pickle.load(fp)"
   ]
  },
  {
   "cell_type": "code",
   "execution_count": 3,
   "metadata": {},
   "outputs": [],
   "source": [
    "with open(\"test_qa.txt\", \"rb\") as fp:   # Unpickling\n",
    "    test_data =  pickle.load(fp)"
   ]
  },
  {
   "cell_type": "markdown",
   "metadata": {},
   "source": [
    "----"
   ]
  },
  {
   "cell_type": "markdown",
   "metadata": {},
   "source": [
    "## Exploring the Format of the Data"
   ]
  },
  {
   "cell_type": "code",
   "execution_count": 4,
   "metadata": {},
   "outputs": [
    {
     "data": {
      "text/plain": [
       "list"
      ]
     },
     "execution_count": 4,
     "metadata": {},
     "output_type": "execute_result"
    }
   ],
   "source": [
    "type(test_data)"
   ]
  },
  {
   "cell_type": "code",
   "execution_count": 5,
   "metadata": {},
   "outputs": [
    {
     "data": {
      "text/plain": [
       "list"
      ]
     },
     "execution_count": 5,
     "metadata": {},
     "output_type": "execute_result"
    }
   ],
   "source": [
    "type(train_data)"
   ]
  },
  {
   "cell_type": "code",
   "execution_count": 6,
   "metadata": {},
   "outputs": [
    {
     "data": {
      "text/plain": [
       "1000"
      ]
     },
     "execution_count": 6,
     "metadata": {},
     "output_type": "execute_result"
    }
   ],
   "source": [
    "len(test_data)"
   ]
  },
  {
   "cell_type": "code",
   "execution_count": 7,
   "metadata": {},
   "outputs": [
    {
     "data": {
      "text/plain": [
       "10000"
      ]
     },
     "execution_count": 7,
     "metadata": {},
     "output_type": "execute_result"
    }
   ],
   "source": [
    "len(train_data)"
   ]
  },
  {
   "cell_type": "code",
   "execution_count": 8,
   "metadata": {},
   "outputs": [
    {
     "data": {
      "text/plain": [
       "(['Mary',\n",
       "  'moved',\n",
       "  'to',\n",
       "  'the',\n",
       "  'bathroom',\n",
       "  '.',\n",
       "  'Sandra',\n",
       "  'journeyed',\n",
       "  'to',\n",
       "  'the',\n",
       "  'bedroom',\n",
       "  '.'],\n",
       " ['Is', 'Sandra', 'in', 'the', 'hallway', '?'],\n",
       " 'no')"
      ]
     },
     "execution_count": 8,
     "metadata": {},
     "output_type": "execute_result"
    }
   ],
   "source": [
    "train_data[0]"
   ]
  },
  {
   "cell_type": "code",
   "execution_count": 9,
   "metadata": {},
   "outputs": [
    {
     "data": {
      "text/plain": [
       "'Mary moved to the bathroom . Sandra journeyed to the bedroom .'"
      ]
     },
     "execution_count": 9,
     "metadata": {},
     "output_type": "execute_result"
    }
   ],
   "source": [
    "' '.join(train_data[0][0])"
   ]
  },
  {
   "cell_type": "code",
   "execution_count": 10,
   "metadata": {},
   "outputs": [
    {
     "data": {
      "text/plain": [
       "'Is Sandra in the hallway ?'"
      ]
     },
     "execution_count": 10,
     "metadata": {},
     "output_type": "execute_result"
    }
   ],
   "source": [
    "' '.join(train_data[0][1])"
   ]
  },
  {
   "cell_type": "code",
   "execution_count": 11,
   "metadata": {},
   "outputs": [
    {
     "data": {
      "text/plain": [
       "'no'"
      ]
     },
     "execution_count": 11,
     "metadata": {},
     "output_type": "execute_result"
    }
   ],
   "source": [
    "train_data[0][2]"
   ]
  },
  {
   "cell_type": "markdown",
   "metadata": {},
   "source": [
    "-----\n",
    "\n",
    "## Setting up Vocabulary of All Words"
   ]
  },
  {
   "cell_type": "code",
   "execution_count": 12,
   "metadata": {},
   "outputs": [],
   "source": [
    "# Create a set that holds the vocab words\n",
    "vocab = set()"
   ]
  },
  {
   "cell_type": "code",
   "execution_count": 13,
   "metadata": {},
   "outputs": [],
   "source": [
    "all_data = test_data + train_data"
   ]
  },
  {
   "cell_type": "code",
   "execution_count": 14,
   "metadata": {},
   "outputs": [],
   "source": [
    "for story, question , answer in all_data:\n",
    "    # In case you don't know what a union of sets is:\n",
    "    # https://www.programiz.com/python-programming/methods/set/union\n",
    "    vocab = vocab.union(set(story))\n",
    "    vocab = vocab.union(set(question))"
   ]
  },
  {
   "cell_type": "code",
   "execution_count": 15,
   "metadata": {},
   "outputs": [],
   "source": [
    "vocab.add('no')\n",
    "vocab.add('yes')"
   ]
  },
  {
   "cell_type": "code",
   "execution_count": 16,
   "metadata": {},
   "outputs": [
    {
     "data": {
      "text/plain": [
       "{'.',\n",
       " '?',\n",
       " 'Daniel',\n",
       " 'Is',\n",
       " 'John',\n",
       " 'Mary',\n",
       " 'Sandra',\n",
       " 'apple',\n",
       " 'back',\n",
       " 'bathroom',\n",
       " 'bedroom',\n",
       " 'discarded',\n",
       " 'down',\n",
       " 'dropped',\n",
       " 'football',\n",
       " 'garden',\n",
       " 'got',\n",
       " 'grabbed',\n",
       " 'hallway',\n",
       " 'in',\n",
       " 'journeyed',\n",
       " 'kitchen',\n",
       " 'left',\n",
       " 'milk',\n",
       " 'moved',\n",
       " 'no',\n",
       " 'office',\n",
       " 'picked',\n",
       " 'put',\n",
       " 'the',\n",
       " 'there',\n",
       " 'to',\n",
       " 'took',\n",
       " 'travelled',\n",
       " 'up',\n",
       " 'went',\n",
       " 'yes'}"
      ]
     },
     "execution_count": 16,
     "metadata": {},
     "output_type": "execute_result"
    }
   ],
   "source": [
    "vocab"
   ]
  },
  {
   "cell_type": "code",
   "execution_count": 17,
   "metadata": {},
   "outputs": [],
   "source": [
    "vocab_len = len(vocab) + 1 #we add an extra space to hold a 0 for Keras's pad_sequences"
   ]
  },
  {
   "cell_type": "code",
   "execution_count": 18,
   "metadata": {},
   "outputs": [],
   "source": [
    "max_story_len = max([len(data[0]) for data in all_data])"
   ]
  },
  {
   "cell_type": "code",
   "execution_count": 19,
   "metadata": {},
   "outputs": [
    {
     "data": {
      "text/plain": [
       "156"
      ]
     },
     "execution_count": 19,
     "metadata": {},
     "output_type": "execute_result"
    }
   ],
   "source": [
    "max_story_len"
   ]
  },
  {
   "cell_type": "code",
   "execution_count": 20,
   "metadata": {},
   "outputs": [],
   "source": [
    "max_question_len = max([len(data[1]) for data in all_data])"
   ]
  },
  {
   "cell_type": "code",
   "execution_count": 21,
   "metadata": {},
   "outputs": [
    {
     "data": {
      "text/plain": [
       "6"
      ]
     },
     "execution_count": 21,
     "metadata": {},
     "output_type": "execute_result"
    }
   ],
   "source": [
    "max_question_len"
   ]
  },
  {
   "cell_type": "markdown",
   "metadata": {},
   "source": [
    "## Vectorizing the Data"
   ]
  },
  {
   "cell_type": "code",
   "execution_count": 22,
   "metadata": {},
   "outputs": [
    {
     "data": {
      "text/plain": [
       "{'.',\n",
       " '?',\n",
       " 'Daniel',\n",
       " 'Is',\n",
       " 'John',\n",
       " 'Mary',\n",
       " 'Sandra',\n",
       " 'apple',\n",
       " 'back',\n",
       " 'bathroom',\n",
       " 'bedroom',\n",
       " 'discarded',\n",
       " 'down',\n",
       " 'dropped',\n",
       " 'football',\n",
       " 'garden',\n",
       " 'got',\n",
       " 'grabbed',\n",
       " 'hallway',\n",
       " 'in',\n",
       " 'journeyed',\n",
       " 'kitchen',\n",
       " 'left',\n",
       " 'milk',\n",
       " 'moved',\n",
       " 'no',\n",
       " 'office',\n",
       " 'picked',\n",
       " 'put',\n",
       " 'the',\n",
       " 'there',\n",
       " 'to',\n",
       " 'took',\n",
       " 'travelled',\n",
       " 'up',\n",
       " 'went',\n",
       " 'yes'}"
      ]
     },
     "execution_count": 22,
     "metadata": {},
     "output_type": "execute_result"
    }
   ],
   "source": [
    "vocab"
   ]
  },
  {
   "cell_type": "code",
   "execution_count": 23,
   "metadata": {},
   "outputs": [],
   "source": [
    "# Reserve 0 for pad_sequences\n",
    "vocab_size = len(vocab) + 1"
   ]
  },
  {
   "cell_type": "markdown",
   "metadata": {},
   "source": [
    "-----------"
   ]
  },
  {
   "cell_type": "code",
   "execution_count": 25,
   "metadata": {},
   "outputs": [],
   "source": [
    "from keras_preprocessing.sequence import pad_sequences\n",
    "from keras.preprocessing.text import Tokenizer"
   ]
  },
  {
   "cell_type": "code",
   "execution_count": 26,
   "metadata": {},
   "outputs": [],
   "source": [
    "# integer encode sequences of words\n",
    "tokenizer = Tokenizer(filters=[])\n",
    "tokenizer.fit_on_texts(vocab)"
   ]
  },
  {
   "cell_type": "code",
   "execution_count": 27,
   "metadata": {},
   "outputs": [
    {
     "data": {
      "text/plain": [
       "{'kitchen': 1,\n",
       " 'left': 2,\n",
       " 'went': 3,\n",
       " 'milk': 4,\n",
       " 'in': 5,\n",
       " 'to': 6,\n",
       " 'apple': 7,\n",
       " 'yes': 8,\n",
       " 'travelled': 9,\n",
       " 'put': 10,\n",
       " 'moved': 11,\n",
       " 'is': 12,\n",
       " 'the': 13,\n",
       " 'up': 14,\n",
       " 'daniel': 15,\n",
       " 'football': 16,\n",
       " 'there': 17,\n",
       " 'sandra': 18,\n",
       " 'john': 19,\n",
       " 'office': 20,\n",
       " 'bathroom': 21,\n",
       " 'bedroom': 22,\n",
       " 'no': 23,\n",
       " 'picked': 24,\n",
       " 'journeyed': 25,\n",
       " 'hallway': 26,\n",
       " 'dropped': 27,\n",
       " 'grabbed': 28,\n",
       " '?': 29,\n",
       " 'garden': 30,\n",
       " 'back': 31,\n",
       " 'discarded': 32,\n",
       " '.': 33,\n",
       " 'down': 34,\n",
       " 'mary': 35,\n",
       " 'took': 36,\n",
       " 'got': 37}"
      ]
     },
     "execution_count": 27,
     "metadata": {},
     "output_type": "execute_result"
    }
   ],
   "source": [
    "tokenizer.word_index"
   ]
  },
  {
   "cell_type": "code",
   "execution_count": 28,
   "metadata": {},
   "outputs": [],
   "source": [
    "train_story_text = []\n",
    "train_question_text = []\n",
    "train_answers = []\n",
    "\n",
    "for story,question,answer in train_data:\n",
    "    train_story_text.append(story)\n",
    "    train_question_text.append(question)"
   ]
  },
  {
   "cell_type": "code",
   "execution_count": 29,
   "metadata": {},
   "outputs": [],
   "source": [
    "train_story_seq = tokenizer.texts_to_sequences(train_story_text)"
   ]
  },
  {
   "cell_type": "code",
   "execution_count": 30,
   "metadata": {},
   "outputs": [
    {
     "data": {
      "text/plain": [
       "10000"
      ]
     },
     "execution_count": 30,
     "metadata": {},
     "output_type": "execute_result"
    }
   ],
   "source": [
    "len(train_story_text)"
   ]
  },
  {
   "cell_type": "code",
   "execution_count": 31,
   "metadata": {},
   "outputs": [
    {
     "data": {
      "text/plain": [
       "10000"
      ]
     },
     "execution_count": 31,
     "metadata": {},
     "output_type": "execute_result"
    }
   ],
   "source": [
    "len(train_story_seq)"
   ]
  },
  {
   "cell_type": "code",
   "execution_count": 32,
   "metadata": {},
   "outputs": [],
   "source": [
    "# word_index = tokenizer.word_index"
   ]
  },
  {
   "cell_type": "markdown",
   "metadata": {},
   "source": [
    "### Functionalize Vectorization"
   ]
  },
  {
   "cell_type": "code",
   "execution_count": 33,
   "metadata": {},
   "outputs": [],
   "source": [
    "def vectorize_stories(data, word_index=tokenizer.word_index, max_story_len=max_story_len,max_question_len=max_question_len):\n",
    "    '''\n",
    "    INPUT: \n",
    "    \n",
    "    data: consisting of Stories,Queries,and Answers\n",
    "    word_index: word index dictionary from tokenizer\n",
    "    max_story_len: the length of the longest story (used for pad_sequences function)\n",
    "    max_question_len: length of the longest question (used for pad_sequences function)\n",
    "\n",
    "\n",
    "    OUTPUT:\n",
    "    \n",
    "    Vectorizes the stories,questions, and answers into padded sequences. We first loop for every story, query , and\n",
    "    answer in the data. Then we convert the raw words to an word index value. Then we append each set to their appropriate\n",
    "    output list. Then once we have converted the words to numbers, we pad the sequences so they are all of equal length.\n",
    "    \n",
    "    Returns this in the form of a tuple (X,Xq,Y) (padded based on max lengths)\n",
    "    '''\n",
    "    \n",
    "    \n",
    "    # X = STORIES\n",
    "    X = []\n",
    "    # Xq = QUERY/QUESTION\n",
    "    Xq = []\n",
    "    # Y = CORRECT ANSWER\n",
    "    Y = []\n",
    "    \n",
    "    \n",
    "    for story, query, answer in data:\n",
    "        \n",
    "        # Grab the word index for every word in story\n",
    "        x = [word_index[word.lower()] for word in story]\n",
    "        # Grab the word index for every word in query\n",
    "        xq = [word_index[word.lower()] for word in query]\n",
    "        \n",
    "        # Grab the Answers (either Yes/No so we don't need to use list comprehension here)\n",
    "        # Index 0 is reserved so we're going to use + 1\n",
    "        y = np.zeros(len(word_index) + 1)\n",
    "        \n",
    "        # Now that y is all zeros and we know its just Yes/No , we can use numpy logic to create this assignment\n",
    "        #\n",
    "        y[word_index[answer]] = 1\n",
    "        \n",
    "        # Append each set of story,query, and answer to their respective holding lists\n",
    "        X.append(x)\n",
    "        Xq.append(xq)\n",
    "        Y.append(y)\n",
    "        \n",
    "    # Finally, pad the sequences based on their max length so the RNN can be trained on uniformly long sequences.\n",
    "        \n",
    "    # RETURN TUPLE FOR UNPACKING\n",
    "    return (pad_sequences(X, maxlen=max_story_len),pad_sequences(Xq, maxlen=max_question_len), np.array(Y))"
   ]
  },
  {
   "cell_type": "code",
   "execution_count": 34,
   "metadata": {},
   "outputs": [],
   "source": [
    "inputs_train, queries_train, answers_train = vectorize_stories(train_data)"
   ]
  },
  {
   "cell_type": "code",
   "execution_count": 35,
   "metadata": {},
   "outputs": [],
   "source": [
    "inputs_test, queries_test, answers_test = vectorize_stories(test_data)"
   ]
  },
  {
   "cell_type": "code",
   "execution_count": 36,
   "metadata": {},
   "outputs": [
    {
     "data": {
      "text/plain": [
       "array([[ 0,  0,  0, ..., 13, 22, 33],\n",
       "       [ 0,  0,  0, ..., 13, 30, 33],\n",
       "       [ 0,  0,  0, ..., 13, 30, 33],\n",
       "       ...,\n",
       "       [ 0,  0,  0, ..., 13,  7, 33],\n",
       "       [ 0,  0,  0, ..., 13, 30, 33],\n",
       "       [ 0,  0,  0, ...,  7, 17, 33]], dtype=int32)"
      ]
     },
     "execution_count": 36,
     "metadata": {},
     "output_type": "execute_result"
    }
   ],
   "source": [
    "inputs_test"
   ]
  },
  {
   "cell_type": "code",
   "execution_count": 37,
   "metadata": {},
   "outputs": [
    {
     "data": {
      "text/plain": [
       "array([[12, 19,  5, 13,  1, 29],\n",
       "       [12, 19,  5, 13,  1, 29],\n",
       "       [12, 19,  5, 13, 30, 29],\n",
       "       ...,\n",
       "       [12, 35,  5, 13, 22, 29],\n",
       "       [12, 18,  5, 13, 30, 29],\n",
       "       [12, 35,  5, 13, 30, 29]], dtype=int32)"
      ]
     },
     "execution_count": 37,
     "metadata": {},
     "output_type": "execute_result"
    }
   ],
   "source": [
    "queries_test"
   ]
  },
  {
   "cell_type": "code",
   "execution_count": 38,
   "metadata": {},
   "outputs": [
    {
     "data": {
      "text/plain": [
       "array([[0., 0., 0., ..., 0., 0., 0.],\n",
       "       [0., 0., 0., ..., 0., 0., 0.],\n",
       "       [0., 0., 0., ..., 0., 0., 0.],\n",
       "       ...,\n",
       "       [0., 0., 0., ..., 0., 0., 0.],\n",
       "       [0., 0., 0., ..., 0., 0., 0.],\n",
       "       [0., 0., 0., ..., 0., 0., 0.]])"
      ]
     },
     "execution_count": 38,
     "metadata": {},
     "output_type": "execute_result"
    }
   ],
   "source": [
    "answers_test"
   ]
  },
  {
   "cell_type": "code",
   "execution_count": 39,
   "metadata": {},
   "outputs": [
    {
     "data": {
      "text/plain": [
       "array([  0.,   0.,   0.,   0.,   0.,   0.,   0.,   0., 497.,   0.,   0.,\n",
       "         0.,   0.,   0.,   0.,   0.,   0.,   0.,   0.,   0.,   0.,   0.,\n",
       "         0., 503.,   0.,   0.,   0.,   0.,   0.,   0.,   0.,   0.,   0.,\n",
       "         0.,   0.,   0.,   0.,   0.])"
      ]
     },
     "execution_count": 39,
     "metadata": {},
     "output_type": "execute_result"
    }
   ],
   "source": [
    "sum(answers_test)"
   ]
  },
  {
   "cell_type": "code",
   "execution_count": 40,
   "metadata": {},
   "outputs": [
    {
     "data": {
      "text/plain": [
       "8"
      ]
     },
     "execution_count": 40,
     "metadata": {},
     "output_type": "execute_result"
    }
   ],
   "source": [
    "tokenizer.word_index['yes']"
   ]
  },
  {
   "cell_type": "code",
   "execution_count": 41,
   "metadata": {},
   "outputs": [
    {
     "data": {
      "text/plain": [
       "23"
      ]
     },
     "execution_count": 41,
     "metadata": {},
     "output_type": "execute_result"
    }
   ],
   "source": [
    "tokenizer.word_index['no']"
   ]
  },
  {
   "cell_type": "markdown",
   "metadata": {},
   "source": [
    "## Creating the Model"
   ]
  },
  {
   "cell_type": "code",
   "execution_count": 43,
   "metadata": {},
   "outputs": [],
   "source": [
    "from keras.models import Sequential, Model\n",
    "from keras.layers import Embedding\n",
    "from keras.layers import Input, Activation, Dense, Permute, Dropout\n",
    "from keras.layers import add, dot, concatenate\n",
    "from keras.layers import LSTM"
   ]
  },
  {
   "cell_type": "markdown",
   "metadata": {},
   "source": [
    "### Placeholders for Inputs\n",
    "\n",
    "Recall we technically have two inputs, stories and questions. So we need to use placeholders. `Input()` is used to instantiate a Keras tensor.\n"
   ]
  },
  {
   "cell_type": "code",
   "execution_count": 44,
   "metadata": {},
   "outputs": [],
   "source": [
    "input_sequence = Input((max_story_len,))\n",
    "question = Input((max_question_len,))"
   ]
  },
  {
   "cell_type": "markdown",
   "metadata": {
    "collapsed": true
   },
   "source": [
    "### Building the Networks\n",
    "\n",
    "To understand why we chose this setup, make sure to read the paper we are using:\n",
    "\n",
    "* Sainbayar Sukhbaatar, Arthur Szlam, Jason Weston, Rob Fergus,\n",
    "  \"End-To-End Memory Networks\",\n",
    "  http://arxiv.org/abs/1503.08895"
   ]
  },
  {
   "cell_type": "markdown",
   "metadata": {},
   "source": [
    "## Encoders\n",
    "\n",
    "### Input Encoder m"
   ]
  },
  {
   "cell_type": "code",
   "execution_count": 45,
   "metadata": {},
   "outputs": [],
   "source": [
    "# Input gets embedded to a sequence of vectors\n",
    "input_encoder_m = Sequential()\n",
    "input_encoder_m.add(Embedding(input_dim=vocab_size,output_dim=64))\n",
    "input_encoder_m.add(Dropout(0.3))\n",
    "\n",
    "# This encoder will output:\n",
    "# (samples, story_maxlen, embedding_dim)"
   ]
  },
  {
   "cell_type": "markdown",
   "metadata": {},
   "source": [
    "### Input Encoder c"
   ]
  },
  {
   "cell_type": "code",
   "execution_count": 46,
   "metadata": {},
   "outputs": [],
   "source": [
    "# embed the input into a sequence of vectors of size query_maxlen\n",
    "input_encoder_c = Sequential()\n",
    "input_encoder_c.add(Embedding(input_dim=vocab_size,output_dim=max_question_len))\n",
    "input_encoder_c.add(Dropout(0.3))\n",
    "# output: (samples, story_maxlen, query_maxlen)"
   ]
  },
  {
   "cell_type": "markdown",
   "metadata": {},
   "source": [
    "### Question Encoder"
   ]
  },
  {
   "cell_type": "code",
   "execution_count": 47,
   "metadata": {},
   "outputs": [],
   "source": [
    "# embed the question into a sequence of vectors\n",
    "question_encoder = Sequential()\n",
    "question_encoder.add(Embedding(input_dim=vocab_size,\n",
    "                               output_dim=64,\n",
    "                               input_length=max_question_len))\n",
    "question_encoder.add(Dropout(0.3))\n",
    "# output: (samples, query_maxlen, embedding_dim)"
   ]
  },
  {
   "cell_type": "markdown",
   "metadata": {},
   "source": [
    "### Encode the Sequences"
   ]
  },
  {
   "cell_type": "code",
   "execution_count": 48,
   "metadata": {},
   "outputs": [],
   "source": [
    "# encode input sequence and questions (which are indices)\n",
    "# to sequences of dense vectors\n",
    "input_encoded_m = input_encoder_m(input_sequence)\n",
    "input_encoded_c = input_encoder_c(input_sequence)\n",
    "question_encoded = question_encoder(question)"
   ]
  },
  {
   "cell_type": "markdown",
   "metadata": {},
   "source": [
    "##### Use dot product to compute the match between first input vector seq and the query"
   ]
  },
  {
   "cell_type": "code",
   "execution_count": 49,
   "metadata": {},
   "outputs": [],
   "source": [
    "# shape: `(samples, story_maxlen, query_maxlen)`\n",
    "match = dot([input_encoded_m, question_encoded], axes=(2, 2))\n",
    "match = Activation('softmax')(match)"
   ]
  },
  {
   "cell_type": "markdown",
   "metadata": {},
   "source": [
    "#### Add this match matrix with the second input vector sequence"
   ]
  },
  {
   "cell_type": "code",
   "execution_count": 50,
   "metadata": {},
   "outputs": [],
   "source": [
    "# add the match matrix with the second input vector sequence\n",
    "response = add([match, input_encoded_c])  # (samples, story_maxlen, query_maxlen)\n",
    "response = Permute((2, 1))(response)  # (samples, query_maxlen, story_maxlen)"
   ]
  },
  {
   "cell_type": "markdown",
   "metadata": {},
   "source": [
    "#### Concatenate"
   ]
  },
  {
   "cell_type": "code",
   "execution_count": 51,
   "metadata": {},
   "outputs": [],
   "source": [
    "# concatenate the match matrix with the question vector sequence\n",
    "answer = concatenate([response, question_encoded])"
   ]
  },
  {
   "cell_type": "code",
   "execution_count": 52,
   "metadata": {},
   "outputs": [
    {
     "data": {
      "text/plain": [
       "<KerasTensor: shape=(None, 6, 220) dtype=float32 (created by layer 'concatenate')>"
      ]
     },
     "execution_count": 52,
     "metadata": {},
     "output_type": "execute_result"
    }
   ],
   "source": [
    "answer"
   ]
  },
  {
   "cell_type": "code",
   "execution_count": 53,
   "metadata": {},
   "outputs": [
    {
     "name": "stderr",
     "output_type": "stream",
     "text": [
      "2025-02-04 12:48:21.196311: I tensorflow/core/common_runtime/executor.cc:1197] [/device:CPU:0] (DEBUG INFO) Executor start aborting (this does not indicate an error and you can ignore this message): INVALID_ARGUMENT: You must feed a value for placeholder tensor 'gradients/split_2_grad/concat/split_2/split_dim' with dtype int32\n",
      "\t [[{{node gradients/split_2_grad/concat/split_2/split_dim}}]]\n",
      "2025-02-04 12:48:21.196936: I tensorflow/core/common_runtime/executor.cc:1197] [/device:CPU:0] (DEBUG INFO) Executor start aborting (this does not indicate an error and you can ignore this message): INVALID_ARGUMENT: You must feed a value for placeholder tensor 'gradients/split_grad/concat/split/split_dim' with dtype int32\n",
      "\t [[{{node gradients/split_grad/concat/split/split_dim}}]]\n",
      "2025-02-04 12:48:21.197203: I tensorflow/core/common_runtime/executor.cc:1197] [/device:CPU:0] (DEBUG INFO) Executor start aborting (this does not indicate an error and you can ignore this message): INVALID_ARGUMENT: You must feed a value for placeholder tensor 'gradients/split_1_grad/concat/split_1/split_dim' with dtype int32\n",
      "\t [[{{node gradients/split_1_grad/concat/split_1/split_dim}}]]\n"
     ]
    }
   ],
   "source": [
    "# Reduce with RNN (LSTM)\n",
    "answer = LSTM(32)(answer)  # (samples, 32)"
   ]
  },
  {
   "cell_type": "code",
   "execution_count": 54,
   "metadata": {},
   "outputs": [],
   "source": [
    "# Regularization with Dropout\n",
    "answer = Dropout(0.5)(answer)\n",
    "answer = Dense(vocab_size)(answer)  # (samples, vocab_size)"
   ]
  },
  {
   "cell_type": "code",
   "execution_count": 55,
   "metadata": {},
   "outputs": [],
   "source": [
    "# we output a probability distribution over the vocabulary\n",
    "answer = Activation('softmax')(answer)\n",
    "\n",
    "# build the final model\n",
    "model = Model([input_sequence, question], answer)\n",
    "model.compile(optimizer='rmsprop', loss='categorical_crossentropy',\n",
    "              metrics=['accuracy'])"
   ]
  },
  {
   "cell_type": "code",
   "execution_count": 56,
   "metadata": {},
   "outputs": [
    {
     "name": "stdout",
     "output_type": "stream",
     "text": [
      "Model: \"model\"\n",
      "__________________________________________________________________________________________________\n",
      " Layer (type)                   Output Shape         Param #     Connected to                     \n",
      "==================================================================================================\n",
      " input_1 (InputLayer)           [(None, 156)]        0           []                               \n",
      "                                                                                                  \n",
      " input_2 (InputLayer)           [(None, 6)]          0           []                               \n",
      "                                                                                                  \n",
      " sequential (Sequential)        (None, None, 64)     2432        ['input_1[0][0]']                \n",
      "                                                                                                  \n",
      " sequential_2 (Sequential)      (None, 6, 64)        2432        ['input_2[0][0]']                \n",
      "                                                                                                  \n",
      " dot (Dot)                      (None, 156, 6)       0           ['sequential[0][0]',             \n",
      "                                                                  'sequential_2[0][0]']           \n",
      "                                                                                                  \n",
      " activation (Activation)        (None, 156, 6)       0           ['dot[0][0]']                    \n",
      "                                                                                                  \n",
      " sequential_1 (Sequential)      (None, None, 6)      228         ['input_1[0][0]']                \n",
      "                                                                                                  \n",
      " add (Add)                      (None, 156, 6)       0           ['activation[0][0]',             \n",
      "                                                                  'sequential_1[0][0]']           \n",
      "                                                                                                  \n",
      " permute (Permute)              (None, 6, 156)       0           ['add[0][0]']                    \n",
      "                                                                                                  \n",
      " concatenate (Concatenate)      (None, 6, 220)       0           ['permute[0][0]',                \n",
      "                                                                  'sequential_2[0][0]']           \n",
      "                                                                                                  \n",
      " lstm (LSTM)                    (None, 32)           32384       ['concatenate[0][0]']            \n",
      "                                                                                                  \n",
      " dropout_3 (Dropout)            (None, 32)           0           ['lstm[0][0]']                   \n",
      "                                                                                                  \n",
      " dense (Dense)                  (None, 38)           1254        ['dropout_3[0][0]']              \n",
      "                                                                                                  \n",
      " activation_1 (Activation)      (None, 38)           0           ['dense[0][0]']                  \n",
      "                                                                                                  \n",
      "==================================================================================================\n",
      "Total params: 38,730\n",
      "Trainable params: 38,730\n",
      "Non-trainable params: 0\n",
      "__________________________________________________________________________________________________\n"
     ]
    }
   ],
   "source": [
    "model.summary()"
   ]
  },
  {
   "cell_type": "code",
   "execution_count": 57,
   "metadata": {},
   "outputs": [
    {
     "name": "stdout",
     "output_type": "stream",
     "text": [
      "Epoch 1/120\n"
     ]
    },
    {
     "name": "stderr",
     "output_type": "stream",
     "text": [
      "2025-02-04 12:48:24.423094: W tensorflow/tsl/platform/profile_utils/cpu_utils.cc:128] Failed to get CPU frequency: 0 Hz\n",
      "2025-02-04 12:48:24.521023: I tensorflow/core/common_runtime/executor.cc:1197] [/device:CPU:0] (DEBUG INFO) Executor start aborting (this does not indicate an error and you can ignore this message): INVALID_ARGUMENT: You must feed a value for placeholder tensor 'gradients/split_2_grad/concat/split_2/split_dim' with dtype int32\n",
      "\t [[{{node gradients/split_2_grad/concat/split_2/split_dim}}]]\n",
      "2025-02-04 12:48:24.521396: I tensorflow/core/common_runtime/executor.cc:1197] [/device:CPU:0] (DEBUG INFO) Executor start aborting (this does not indicate an error and you can ignore this message): INVALID_ARGUMENT: You must feed a value for placeholder tensor 'gradients/split_grad/concat/split/split_dim' with dtype int32\n",
      "\t [[{{node gradients/split_grad/concat/split/split_dim}}]]\n",
      "2025-02-04 12:48:24.521706: I tensorflow/core/common_runtime/executor.cc:1197] [/device:CPU:0] (DEBUG INFO) Executor start aborting (this does not indicate an error and you can ignore this message): INVALID_ARGUMENT: You must feed a value for placeholder tensor 'gradients/split_1_grad/concat/split_1/split_dim' with dtype int32\n",
      "\t [[{{node gradients/split_1_grad/concat/split_1/split_dim}}]]\n",
      "2025-02-04 12:48:24.709670: I tensorflow/core/common_runtime/executor.cc:1197] [/device:CPU:0] (DEBUG INFO) Executor start aborting (this does not indicate an error and you can ignore this message): INVALID_ARGUMENT: You must feed a value for placeholder tensor 'gradients/split_2_grad/concat/split_2/split_dim' with dtype int32\n",
      "\t [[{{node gradients/split_2_grad/concat/split_2/split_dim}}]]\n",
      "2025-02-04 12:48:24.710061: I tensorflow/core/common_runtime/executor.cc:1197] [/device:CPU:0] (DEBUG INFO) Executor start aborting (this does not indicate an error and you can ignore this message): INVALID_ARGUMENT: You must feed a value for placeholder tensor 'gradients/split_grad/concat/split/split_dim' with dtype int32\n",
      "\t [[{{node gradients/split_grad/concat/split/split_dim}}]]\n",
      "2025-02-04 12:48:24.710476: I tensorflow/core/common_runtime/executor.cc:1197] [/device:CPU:0] (DEBUG INFO) Executor start aborting (this does not indicate an error and you can ignore this message): INVALID_ARGUMENT: You must feed a value for placeholder tensor 'gradients/split_1_grad/concat/split_1/split_dim' with dtype int32\n",
      "\t [[{{node gradients/split_1_grad/concat/split_1/split_dim}}]]\n"
     ]
    },
    {
     "name": "stdout",
     "output_type": "stream",
     "text": [
      "313/313 [==============================] - 2s 4ms/step - loss: 0.9015 - accuracy: 0.4943 - val_loss: 0.6948 - val_accuracy: 0.5030\n",
      "Epoch 2/120\n",
      " 30/313 [=>............................] - ETA: 1s - loss: 0.7143 - accuracy: 0.5073"
     ]
    },
    {
     "name": "stderr",
     "output_type": "stream",
     "text": [
      "2025-02-04 12:48:26.102764: I tensorflow/core/common_runtime/executor.cc:1197] [/device:CPU:0] (DEBUG INFO) Executor start aborting (this does not indicate an error and you can ignore this message): INVALID_ARGUMENT: You must feed a value for placeholder tensor 'gradients/split_2_grad/concat/split_2/split_dim' with dtype int32\n",
      "\t [[{{node gradients/split_2_grad/concat/split_2/split_dim}}]]\n",
      "2025-02-04 12:48:26.103244: I tensorflow/core/common_runtime/executor.cc:1197] [/device:CPU:0] (DEBUG INFO) Executor start aborting (this does not indicate an error and you can ignore this message): INVALID_ARGUMENT: You must feed a value for placeholder tensor 'gradients/split_grad/concat/split/split_dim' with dtype int32\n",
      "\t [[{{node gradients/split_grad/concat/split/split_dim}}]]\n",
      "2025-02-04 12:48:26.103575: I tensorflow/core/common_runtime/executor.cc:1197] [/device:CPU:0] (DEBUG INFO) Executor start aborting (this does not indicate an error and you can ignore this message): INVALID_ARGUMENT: You must feed a value for placeholder tensor 'gradients/split_1_grad/concat/split_1/split_dim' with dtype int32\n",
      "\t [[{{node gradients/split_1_grad/concat/split_1/split_dim}}]]\n"
     ]
    },
    {
     "name": "stdout",
     "output_type": "stream",
     "text": [
      "313/313 [==============================] - 1s 4ms/step - loss: 0.7055 - accuracy: 0.5049 - val_loss: 0.6955 - val_accuracy: 0.4970\n",
      "Epoch 3/120\n",
      "313/313 [==============================] - 1s 4ms/step - loss: 0.6967 - accuracy: 0.4986 - val_loss: 0.6939 - val_accuracy: 0.4970\n",
      "Epoch 4/120\n",
      "313/313 [==============================] - 1s 4ms/step - loss: 0.6951 - accuracy: 0.5008 - val_loss: 0.6945 - val_accuracy: 0.4970\n",
      "Epoch 5/120\n",
      "313/313 [==============================] - 1s 4ms/step - loss: 0.6953 - accuracy: 0.4927 - val_loss: 0.6938 - val_accuracy: 0.5030\n",
      "Epoch 6/120\n",
      "313/313 [==============================] - 1s 4ms/step - loss: 0.6941 - accuracy: 0.5122 - val_loss: 0.6943 - val_accuracy: 0.5030\n",
      "Epoch 7/120\n",
      "313/313 [==============================] - 1s 4ms/step - loss: 0.6948 - accuracy: 0.4952 - val_loss: 0.6933 - val_accuracy: 0.5030\n",
      "Epoch 8/120\n",
      "313/313 [==============================] - 1s 4ms/step - loss: 0.6943 - accuracy: 0.5011 - val_loss: 0.6945 - val_accuracy: 0.4970\n",
      "Epoch 9/120\n",
      "313/313 [==============================] - 1s 4ms/step - loss: 0.6940 - accuracy: 0.5013 - val_loss: 0.6941 - val_accuracy: 0.4820\n",
      "Epoch 10/120\n",
      "313/313 [==============================] - 1s 4ms/step - loss: 0.6935 - accuracy: 0.5109 - val_loss: 0.6956 - val_accuracy: 0.4880\n",
      "Epoch 11/120\n",
      "313/313 [==============================] - 1s 4ms/step - loss: 0.6926 - accuracy: 0.5162 - val_loss: 0.6984 - val_accuracy: 0.5090\n",
      "Epoch 12/120\n",
      "313/313 [==============================] - 1s 4ms/step - loss: 0.6903 - accuracy: 0.5300 - val_loss: 0.6911 - val_accuracy: 0.5140\n",
      "Epoch 13/120\n",
      "313/313 [==============================] - 1s 4ms/step - loss: 0.6759 - accuracy: 0.5597 - val_loss: 0.6629 - val_accuracy: 0.6340\n",
      "Epoch 14/120\n",
      "313/313 [==============================] - 1s 4ms/step - loss: 0.6439 - accuracy: 0.6298 - val_loss: 0.6234 - val_accuracy: 0.6610\n",
      "Epoch 15/120\n",
      "313/313 [==============================] - 1s 4ms/step - loss: 0.6301 - accuracy: 0.6542 - val_loss: 0.6212 - val_accuracy: 0.6460\n",
      "Epoch 16/120\n",
      "313/313 [==============================] - 1s 4ms/step - loss: 0.6222 - accuracy: 0.6653 - val_loss: 0.6203 - val_accuracy: 0.6630\n",
      "Epoch 17/120\n",
      "313/313 [==============================] - 1s 4ms/step - loss: 0.6149 - accuracy: 0.6721 - val_loss: 0.6096 - val_accuracy: 0.6660\n",
      "Epoch 18/120\n",
      "313/313 [==============================] - 1s 4ms/step - loss: 0.6094 - accuracy: 0.6736 - val_loss: 0.6050 - val_accuracy: 0.6710\n",
      "Epoch 19/120\n",
      "313/313 [==============================] - 1s 4ms/step - loss: 0.6008 - accuracy: 0.6797 - val_loss: 0.6039 - val_accuracy: 0.6790\n",
      "Epoch 20/120\n",
      "313/313 [==============================] - 1s 4ms/step - loss: 0.5945 - accuracy: 0.6916 - val_loss: 0.5931 - val_accuracy: 0.6830\n",
      "Epoch 21/120\n",
      "313/313 [==============================] - 1s 4ms/step - loss: 0.5865 - accuracy: 0.6958 - val_loss: 0.5819 - val_accuracy: 0.6800\n",
      "Epoch 22/120\n",
      "313/313 [==============================] - 1s 4ms/step - loss: 0.5796 - accuracy: 0.7015 - val_loss: 0.5773 - val_accuracy: 0.6940\n",
      "Epoch 23/120\n",
      "313/313 [==============================] - 1s 4ms/step - loss: 0.5679 - accuracy: 0.7081 - val_loss: 0.5688 - val_accuracy: 0.6980\n",
      "Epoch 24/120\n",
      "313/313 [==============================] - 1s 4ms/step - loss: 0.5569 - accuracy: 0.7213 - val_loss: 0.5603 - val_accuracy: 0.7100\n",
      "Epoch 25/120\n",
      "313/313 [==============================] - 1s 4ms/step - loss: 0.5463 - accuracy: 0.7254 - val_loss: 0.5445 - val_accuracy: 0.7320\n",
      "Epoch 26/120\n",
      "313/313 [==============================] - 1s 4ms/step - loss: 0.5458 - accuracy: 0.7280 - val_loss: 0.5313 - val_accuracy: 0.7420\n",
      "Epoch 27/120\n",
      "313/313 [==============================] - 1s 4ms/step - loss: 0.5359 - accuracy: 0.7340 - val_loss: 0.5246 - val_accuracy: 0.7360\n",
      "Epoch 28/120\n",
      "313/313 [==============================] - 1s 4ms/step - loss: 0.5235 - accuracy: 0.7384 - val_loss: 0.5156 - val_accuracy: 0.7410\n",
      "Epoch 29/120\n",
      "313/313 [==============================] - 1s 4ms/step - loss: 0.5135 - accuracy: 0.7447 - val_loss: 0.5021 - val_accuracy: 0.7500\n",
      "Epoch 30/120\n",
      "313/313 [==============================] - 1s 4ms/step - loss: 0.5099 - accuracy: 0.7488 - val_loss: 0.5078 - val_accuracy: 0.7570\n",
      "Epoch 31/120\n",
      "313/313 [==============================] - 1s 4ms/step - loss: 0.4953 - accuracy: 0.7603 - val_loss: 0.4901 - val_accuracy: 0.7680\n",
      "Epoch 32/120\n",
      "313/313 [==============================] - 1s 4ms/step - loss: 0.4928 - accuracy: 0.7605 - val_loss: 0.4862 - val_accuracy: 0.7590\n",
      "Epoch 33/120\n",
      "313/313 [==============================] - 1s 4ms/step - loss: 0.4900 - accuracy: 0.7647 - val_loss: 0.4993 - val_accuracy: 0.7670\n",
      "Epoch 34/120\n",
      "313/313 [==============================] - 1s 4ms/step - loss: 0.4865 - accuracy: 0.7699 - val_loss: 0.4801 - val_accuracy: 0.7750\n",
      "Epoch 35/120\n",
      "313/313 [==============================] - 1s 4ms/step - loss: 0.4798 - accuracy: 0.7722 - val_loss: 0.4864 - val_accuracy: 0.7740\n",
      "Epoch 36/120\n",
      "313/313 [==============================] - 1s 5ms/step - loss: 0.4708 - accuracy: 0.7763 - val_loss: 0.4705 - val_accuracy: 0.7760\n",
      "Epoch 37/120\n",
      "313/313 [==============================] - 1s 5ms/step - loss: 0.4644 - accuracy: 0.7836 - val_loss: 0.4868 - val_accuracy: 0.7810\n",
      "Epoch 38/120\n",
      "313/313 [==============================] - 1s 4ms/step - loss: 0.4584 - accuracy: 0.7941 - val_loss: 0.4679 - val_accuracy: 0.7780\n",
      "Epoch 39/120\n",
      "313/313 [==============================] - 1s 4ms/step - loss: 0.4551 - accuracy: 0.7872 - val_loss: 0.4609 - val_accuracy: 0.7800\n",
      "Epoch 40/120\n",
      "313/313 [==============================] - 1s 4ms/step - loss: 0.4498 - accuracy: 0.7913 - val_loss: 0.4778 - val_accuracy: 0.7880\n",
      "Epoch 41/120\n",
      "313/313 [==============================] - 1s 5ms/step - loss: 0.4465 - accuracy: 0.7917 - val_loss: 0.4707 - val_accuracy: 0.7810\n",
      "Epoch 42/120\n",
      "313/313 [==============================] - 1s 4ms/step - loss: 0.4512 - accuracy: 0.7938 - val_loss: 0.4514 - val_accuracy: 0.7930\n",
      "Epoch 43/120\n",
      "313/313 [==============================] - 1s 5ms/step - loss: 0.4340 - accuracy: 0.8010 - val_loss: 0.4489 - val_accuracy: 0.7990\n",
      "Epoch 44/120\n",
      "313/313 [==============================] - 1s 5ms/step - loss: 0.4298 - accuracy: 0.8062 - val_loss: 0.4570 - val_accuracy: 0.8060\n",
      "Epoch 45/120\n",
      "313/313 [==============================] - 1s 5ms/step - loss: 0.4294 - accuracy: 0.8012 - val_loss: 0.4522 - val_accuracy: 0.7910\n",
      "Epoch 46/120\n",
      "313/313 [==============================] - 2s 5ms/step - loss: 0.4336 - accuracy: 0.8028 - val_loss: 0.4502 - val_accuracy: 0.8020\n",
      "Epoch 47/120\n",
      "313/313 [==============================] - 1s 5ms/step - loss: 0.4192 - accuracy: 0.8114 - val_loss: 0.4639 - val_accuracy: 0.7800\n",
      "Epoch 48/120\n",
      "313/313 [==============================] - 1s 5ms/step - loss: 0.4148 - accuracy: 0.8113 - val_loss: 0.4332 - val_accuracy: 0.8080\n",
      "Epoch 49/120\n",
      "313/313 [==============================] - 1s 5ms/step - loss: 0.4121 - accuracy: 0.8102 - val_loss: 0.4380 - val_accuracy: 0.8030\n",
      "Epoch 50/120\n",
      "313/313 [==============================] - 1s 5ms/step - loss: 0.4033 - accuracy: 0.8200 - val_loss: 0.4338 - val_accuracy: 0.8050\n",
      "Epoch 51/120\n",
      "313/313 [==============================] - 1s 5ms/step - loss: 0.4018 - accuracy: 0.8183 - val_loss: 0.4400 - val_accuracy: 0.8130\n",
      "Epoch 52/120\n",
      "313/313 [==============================] - 1s 5ms/step - loss: 0.3916 - accuracy: 0.8277 - val_loss: 0.4307 - val_accuracy: 0.8230\n",
      "Epoch 53/120\n",
      "313/313 [==============================] - 1s 5ms/step - loss: 0.3953 - accuracy: 0.8222 - val_loss: 0.4324 - val_accuracy: 0.8130\n",
      "Epoch 54/120\n",
      "313/313 [==============================] - 1s 5ms/step - loss: 0.3911 - accuracy: 0.8260 - val_loss: 0.4513 - val_accuracy: 0.8130\n",
      "Epoch 55/120\n",
      "313/313 [==============================] - 1s 5ms/step - loss: 0.3862 - accuracy: 0.8276 - val_loss: 0.4437 - val_accuracy: 0.8130\n",
      "Epoch 56/120\n",
      "313/313 [==============================] - 1s 5ms/step - loss: 0.3815 - accuracy: 0.8291 - val_loss: 0.4281 - val_accuracy: 0.8010\n",
      "Epoch 57/120\n",
      "313/313 [==============================] - 1s 4ms/step - loss: 0.3745 - accuracy: 0.8344 - val_loss: 0.4390 - val_accuracy: 0.8180\n",
      "Epoch 58/120\n",
      "313/313 [==============================] - 1s 5ms/step - loss: 0.3723 - accuracy: 0.8348 - val_loss: 0.4296 - val_accuracy: 0.8090\n",
      "Epoch 59/120\n"
     ]
    },
    {
     "name": "stdout",
     "output_type": "stream",
     "text": [
      "313/313 [==============================] - 1s 4ms/step - loss: 0.3712 - accuracy: 0.8365 - val_loss: 0.4258 - val_accuracy: 0.8120\n",
      "Epoch 60/120\n",
      "313/313 [==============================] - 1s 4ms/step - loss: 0.3677 - accuracy: 0.8375 - val_loss: 0.4349 - val_accuracy: 0.8130\n",
      "Epoch 61/120\n",
      "313/313 [==============================] - 1s 4ms/step - loss: 0.3688 - accuracy: 0.8381 - val_loss: 0.4582 - val_accuracy: 0.8160\n",
      "Epoch 62/120\n",
      "313/313 [==============================] - 1s 4ms/step - loss: 0.3624 - accuracy: 0.8386 - val_loss: 0.4606 - val_accuracy: 0.8070\n",
      "Epoch 63/120\n",
      "313/313 [==============================] - 1s 4ms/step - loss: 0.3599 - accuracy: 0.8442 - val_loss: 0.4611 - val_accuracy: 0.8120\n",
      "Epoch 64/120\n",
      "313/313 [==============================] - 1s 4ms/step - loss: 0.3536 - accuracy: 0.8450 - val_loss: 0.4404 - val_accuracy: 0.8190\n",
      "Epoch 65/120\n",
      "313/313 [==============================] - 1s 5ms/step - loss: 0.3578 - accuracy: 0.8427 - val_loss: 0.4305 - val_accuracy: 0.8180\n",
      "Epoch 66/120\n",
      "313/313 [==============================] - 1s 5ms/step - loss: 0.3505 - accuracy: 0.8503 - val_loss: 0.4454 - val_accuracy: 0.8060\n",
      "Epoch 67/120\n",
      "313/313 [==============================] - 1s 4ms/step - loss: 0.3526 - accuracy: 0.8468 - val_loss: 0.4300 - val_accuracy: 0.8150\n",
      "Epoch 68/120\n",
      "313/313 [==============================] - 1s 4ms/step - loss: 0.3456 - accuracy: 0.8489 - val_loss: 0.4334 - val_accuracy: 0.8180\n",
      "Epoch 69/120\n",
      "313/313 [==============================] - 1s 5ms/step - loss: 0.3462 - accuracy: 0.8531 - val_loss: 0.4458 - val_accuracy: 0.8200\n",
      "Epoch 70/120\n",
      "313/313 [==============================] - 1s 5ms/step - loss: 0.3381 - accuracy: 0.8558 - val_loss: 0.4401 - val_accuracy: 0.8170\n",
      "Epoch 71/120\n",
      "313/313 [==============================] - 2s 5ms/step - loss: 0.3412 - accuracy: 0.8553 - val_loss: 0.4508 - val_accuracy: 0.8090\n",
      "Epoch 72/120\n",
      "313/313 [==============================] - 2s 5ms/step - loss: 0.3402 - accuracy: 0.8538 - val_loss: 0.4417 - val_accuracy: 0.8130\n",
      "Epoch 73/120\n",
      "313/313 [==============================] - 1s 5ms/step - loss: 0.3347 - accuracy: 0.8561 - val_loss: 0.4501 - val_accuracy: 0.8120\n",
      "Epoch 74/120\n",
      "313/313 [==============================] - 1s 5ms/step - loss: 0.3356 - accuracy: 0.8536 - val_loss: 0.4509 - val_accuracy: 0.8110\n",
      "Epoch 75/120\n",
      "313/313 [==============================] - 1s 5ms/step - loss: 0.3347 - accuracy: 0.8552 - val_loss: 0.4374 - val_accuracy: 0.8230\n",
      "Epoch 76/120\n",
      "313/313 [==============================] - 1s 5ms/step - loss: 0.3259 - accuracy: 0.8605 - val_loss: 0.4821 - val_accuracy: 0.8060\n",
      "Epoch 77/120\n",
      "313/313 [==============================] - 1s 5ms/step - loss: 0.3249 - accuracy: 0.8601 - val_loss: 0.4586 - val_accuracy: 0.8070\n",
      "Epoch 78/120\n",
      "313/313 [==============================] - 1s 5ms/step - loss: 0.3263 - accuracy: 0.8634 - val_loss: 0.4354 - val_accuracy: 0.8090\n",
      "Epoch 79/120\n",
      "313/313 [==============================] - 2s 5ms/step - loss: 0.3193 - accuracy: 0.8627 - val_loss: 0.4523 - val_accuracy: 0.8140\n",
      "Epoch 80/120\n",
      "313/313 [==============================] - 2s 5ms/step - loss: 0.3230 - accuracy: 0.8647 - val_loss: 0.4525 - val_accuracy: 0.8200\n",
      "Epoch 81/120\n",
      "313/313 [==============================] - 2s 5ms/step - loss: 0.3197 - accuracy: 0.8670 - val_loss: 0.4565 - val_accuracy: 0.8150\n",
      "Epoch 82/120\n",
      "313/313 [==============================] - 2s 5ms/step - loss: 0.3218 - accuracy: 0.8670 - val_loss: 0.4431 - val_accuracy: 0.8240\n",
      "Epoch 83/120\n",
      "313/313 [==============================] - 2s 5ms/step - loss: 0.3154 - accuracy: 0.8620 - val_loss: 0.4680 - val_accuracy: 0.8040\n",
      "Epoch 84/120\n",
      "313/313 [==============================] - 2s 5ms/step - loss: 0.3158 - accuracy: 0.8686 - val_loss: 0.4808 - val_accuracy: 0.8070\n",
      "Epoch 85/120\n",
      "313/313 [==============================] - 2s 5ms/step - loss: 0.3131 - accuracy: 0.8720 - val_loss: 0.4711 - val_accuracy: 0.8110\n",
      "Epoch 86/120\n",
      "313/313 [==============================] - 1s 5ms/step - loss: 0.3081 - accuracy: 0.8719 - val_loss: 0.4823 - val_accuracy: 0.8070\n",
      "Epoch 87/120\n",
      "313/313 [==============================] - 1s 5ms/step - loss: 0.3098 - accuracy: 0.8676 - val_loss: 0.4436 - val_accuracy: 0.8220\n",
      "Epoch 88/120\n",
      "313/313 [==============================] - 2s 5ms/step - loss: 0.3097 - accuracy: 0.8650 - val_loss: 0.4721 - val_accuracy: 0.8080\n",
      "Epoch 89/120\n",
      "313/313 [==============================] - 2s 5ms/step - loss: 0.3112 - accuracy: 0.8697 - val_loss: 0.4560 - val_accuracy: 0.8170\n",
      "Epoch 90/120\n",
      "313/313 [==============================] - 2s 5ms/step - loss: 0.3042 - accuracy: 0.8719 - val_loss: 0.4654 - val_accuracy: 0.8120\n",
      "Epoch 91/120\n",
      "313/313 [==============================] - 2s 5ms/step - loss: 0.3021 - accuracy: 0.8753 - val_loss: 0.4471 - val_accuracy: 0.8120\n",
      "Epoch 92/120\n",
      "313/313 [==============================] - 2s 5ms/step - loss: 0.2966 - accuracy: 0.8743 - val_loss: 0.4807 - val_accuracy: 0.8100\n",
      "Epoch 93/120\n",
      "313/313 [==============================] - 2s 5ms/step - loss: 0.2949 - accuracy: 0.8772 - val_loss: 0.4638 - val_accuracy: 0.8090\n",
      "Epoch 94/120\n",
      "313/313 [==============================] - 2s 5ms/step - loss: 0.2948 - accuracy: 0.8740 - val_loss: 0.4676 - val_accuracy: 0.8150\n",
      "Epoch 95/120\n",
      "313/313 [==============================] - 2s 5ms/step - loss: 0.2964 - accuracy: 0.8747 - val_loss: 0.4901 - val_accuracy: 0.8100\n",
      "Epoch 96/120\n",
      "313/313 [==============================] - 2s 5ms/step - loss: 0.2914 - accuracy: 0.8785 - val_loss: 0.4768 - val_accuracy: 0.8120\n",
      "Epoch 97/120\n",
      "313/313 [==============================] - 2s 5ms/step - loss: 0.2898 - accuracy: 0.8773 - val_loss: 0.4734 - val_accuracy: 0.8130\n",
      "Epoch 98/120\n",
      "313/313 [==============================] - 2s 5ms/step - loss: 0.2942 - accuracy: 0.8784 - val_loss: 0.4693 - val_accuracy: 0.8180\n",
      "Epoch 99/120\n",
      "313/313 [==============================] - 2s 5ms/step - loss: 0.2825 - accuracy: 0.8840 - val_loss: 0.4703 - val_accuracy: 0.8080\n",
      "Epoch 100/120\n",
      "313/313 [==============================] - 2s 5ms/step - loss: 0.2884 - accuracy: 0.8774 - val_loss: 0.4927 - val_accuracy: 0.8110\n",
      "Epoch 101/120\n",
      "313/313 [==============================] - 2s 5ms/step - loss: 0.2794 - accuracy: 0.8835 - val_loss: 0.5047 - val_accuracy: 0.8070\n",
      "Epoch 102/120\n",
      "313/313 [==============================] - 2s 5ms/step - loss: 0.2893 - accuracy: 0.8799 - val_loss: 0.4882 - val_accuracy: 0.8110\n",
      "Epoch 103/120\n",
      "313/313 [==============================] - 2s 5ms/step - loss: 0.2782 - accuracy: 0.8876 - val_loss: 0.4721 - val_accuracy: 0.8190\n",
      "Epoch 104/120\n",
      "313/313 [==============================] - 2s 5ms/step - loss: 0.2816 - accuracy: 0.8843 - val_loss: 0.4751 - val_accuracy: 0.8160\n",
      "Epoch 105/120\n",
      "313/313 [==============================] - 2s 5ms/step - loss: 0.2758 - accuracy: 0.8874 - val_loss: 0.4837 - val_accuracy: 0.8160\n",
      "Epoch 106/120\n",
      "313/313 [==============================] - 2s 5ms/step - loss: 0.2837 - accuracy: 0.8765 - val_loss: 0.5001 - val_accuracy: 0.8130\n",
      "Epoch 107/120\n",
      "313/313 [==============================] - 2s 5ms/step - loss: 0.2896 - accuracy: 0.8803 - val_loss: 0.4893 - val_accuracy: 0.8050\n",
      "Epoch 108/120\n",
      "313/313 [==============================] - 2s 5ms/step - loss: 0.2738 - accuracy: 0.8892 - val_loss: 0.5244 - val_accuracy: 0.8080\n",
      "Epoch 109/120\n",
      "313/313 [==============================] - 2s 5ms/step - loss: 0.2804 - accuracy: 0.8897 - val_loss: 0.4858 - val_accuracy: 0.8060\n",
      "Epoch 110/120\n",
      "313/313 [==============================] - 2s 5ms/step - loss: 0.2788 - accuracy: 0.8875 - val_loss: 0.4865 - val_accuracy: 0.8100\n",
      "Epoch 111/120\n",
      "313/313 [==============================] - 2s 5ms/step - loss: 0.2727 - accuracy: 0.8857 - val_loss: 0.4894 - val_accuracy: 0.8050\n",
      "Epoch 112/120\n",
      "313/313 [==============================] - 2s 5ms/step - loss: 0.2666 - accuracy: 0.8937 - val_loss: 0.4959 - val_accuracy: 0.8090\n",
      "Epoch 113/120\n",
      "313/313 [==============================] - 2s 5ms/step - loss: 0.2693 - accuracy: 0.8899 - val_loss: 0.4986 - val_accuracy: 0.8100\n",
      "Epoch 114/120\n",
      "313/313 [==============================] - 2s 5ms/step - loss: 0.2640 - accuracy: 0.8921 - val_loss: 0.5141 - val_accuracy: 0.8070\n",
      "Epoch 115/120\n",
      "313/313 [==============================] - 2s 5ms/step - loss: 0.2643 - accuracy: 0.8901 - val_loss: 0.4937 - val_accuracy: 0.8160\n"
     ]
    },
    {
     "name": "stdout",
     "output_type": "stream",
     "text": [
      "Epoch 116/120\n",
      "313/313 [==============================] - 2s 5ms/step - loss: 0.2686 - accuracy: 0.8869 - val_loss: 0.5111 - val_accuracy: 0.8060\n",
      "Epoch 117/120\n",
      "313/313 [==============================] - 2s 5ms/step - loss: 0.2655 - accuracy: 0.8878 - val_loss: 0.5150 - val_accuracy: 0.8060\n",
      "Epoch 118/120\n",
      "313/313 [==============================] - 2s 5ms/step - loss: 0.2623 - accuracy: 0.8937 - val_loss: 0.5022 - val_accuracy: 0.8150\n",
      "Epoch 119/120\n",
      "313/313 [==============================] - 2s 5ms/step - loss: 0.2612 - accuracy: 0.8916 - val_loss: 0.5163 - val_accuracy: 0.8120\n",
      "Epoch 120/120\n",
      "313/313 [==============================] - 2s 5ms/step - loss: 0.2633 - accuracy: 0.8911 - val_loss: 0.5247 - val_accuracy: 0.8080\n"
     ]
    }
   ],
   "source": [
    "# train\n",
    "history = model.fit([inputs_train, queries_train], answers_train,batch_size=32,epochs=120,validation_data=([inputs_test, queries_test], answers_test))"
   ]
  },
  {
   "cell_type": "markdown",
   "metadata": {},
   "source": [
    "### Saving the Model"
   ]
  },
  {
   "cell_type": "code",
   "execution_count": 58,
   "metadata": {},
   "outputs": [],
   "source": [
    "filename = 'chatbot_120_epochs.h5'\n",
    "model.save(filename)"
   ]
  },
  {
   "cell_type": "markdown",
   "metadata": {},
   "source": [
    "## Evaluating the Model\n",
    "\n",
    "### Plotting Out Training History"
   ]
  },
  {
   "cell_type": "code",
   "execution_count": 61,
   "metadata": {},
   "outputs": [
    {
     "name": "stdout",
     "output_type": "stream",
     "text": [
      "dict_keys(['loss', 'accuracy', 'val_loss', 'val_accuracy'])\n"
     ]
    },
    {
     "data": {
      "image/png": "[encoded data removed]",
      "text/plain": [
       "<Figure size 640x480 with 1 Axes>"
      ]
     },
     "metadata": {},
     "output_type": "display_data"
    }
   ],
   "source": [
    "import matplotlib.pyplot as plt\n",
    "%matplotlib inline\n",
    "print(history.history.keys())\n",
    "# summarize history for accuracy\n",
    "plt.plot(history.history['accuracy'])\n",
    "plt.plot(history.history['val_accuracy'])\n",
    "plt.title('model accuracy')\n",
    "plt.ylabel('accuracy')\n",
    "plt.xlabel('epoch')\n",
    "plt.legend(['train', 'test'], loc='upper left')\n",
    "plt.show()"
   ]
  },
  {
   "cell_type": "markdown",
   "metadata": {},
   "source": [
    "### Evaluating on Given Test Set"
   ]
  },
  {
   "cell_type": "code",
   "execution_count": 62,
   "metadata": {},
   "outputs": [
    {
     "name": "stdout",
     "output_type": "stream",
     "text": [
      "32/32 [==============================] - 0s 1ms/step\n"
     ]
    },
    {
     "name": "stderr",
     "output_type": "stream",
     "text": [
      "2025-02-04 12:52:18.397761: I tensorflow/core/common_runtime/executor.cc:1197] [/device:CPU:0] (DEBUG INFO) Executor start aborting (this does not indicate an error and you can ignore this message): INVALID_ARGUMENT: You must feed a value for placeholder tensor 'gradients/split_2_grad/concat/split_2/split_dim' with dtype int32\n",
      "\t [[{{node gradients/split_2_grad/concat/split_2/split_dim}}]]\n",
      "2025-02-04 12:52:18.398285: I tensorflow/core/common_runtime/executor.cc:1197] [/device:CPU:0] (DEBUG INFO) Executor start aborting (this does not indicate an error and you can ignore this message): INVALID_ARGUMENT: You must feed a value for placeholder tensor 'gradients/split_grad/concat/split/split_dim' with dtype int32\n",
      "\t [[{{node gradients/split_grad/concat/split/split_dim}}]]\n",
      "2025-02-04 12:52:18.398733: I tensorflow/core/common_runtime/executor.cc:1197] [/device:CPU:0] (DEBUG INFO) Executor start aborting (this does not indicate an error and you can ignore this message): INVALID_ARGUMENT: You must feed a value for placeholder tensor 'gradients/split_1_grad/concat/split_1/split_dim' with dtype int32\n",
      "\t [[{{node gradients/split_1_grad/concat/split_1/split_dim}}]]\n"
     ]
    }
   ],
   "source": [
    "model.load_weights(filename)\n",
    "pred_results = model.predict(([inputs_test, queries_test]))"
   ]
  },
  {
   "cell_type": "code",
   "execution_count": 63,
   "metadata": {},
   "outputs": [
    {
     "data": {
      "text/plain": [
       "['Mary',\n",
       " 'got',\n",
       " 'the',\n",
       " 'milk',\n",
       " 'there',\n",
       " '.',\n",
       " 'John',\n",
       " 'moved',\n",
       " 'to',\n",
       " 'the',\n",
       " 'bedroom',\n",
       " '.']"
      ]
     },
     "execution_count": 63,
     "metadata": {},
     "output_type": "execute_result"
    }
   ],
   "source": [
    "test_data[0][0]"
   ]
  },
  {
   "cell_type": "code",
   "execution_count": 64,
   "metadata": {},
   "outputs": [
    {
     "name": "stdout",
     "output_type": "stream",
     "text": [
      "Mary got the milk there . John moved to the bedroom .\n"
     ]
    }
   ],
   "source": [
    "story =' '.join(word for word in test_data[0][0])\n",
    "print(story)"
   ]
  },
  {
   "cell_type": "code",
   "execution_count": 65,
   "metadata": {},
   "outputs": [
    {
     "name": "stdout",
     "output_type": "stream",
     "text": [
      "Is John in the kitchen ?\n"
     ]
    }
   ],
   "source": [
    "query = ' '.join(word for word in test_data[0][1])\n",
    "print(query)"
   ]
  },
  {
   "cell_type": "code",
   "execution_count": 66,
   "metadata": {},
   "outputs": [
    {
     "name": "stdout",
     "output_type": "stream",
     "text": [
      "True Test Answer from Data is: no\n"
     ]
    }
   ],
   "source": [
    "print(\"True Test Answer from Data is:\",test_data[0][2])"
   ]
  },
  {
   "cell_type": "code",
   "execution_count": 67,
   "metadata": {},
   "outputs": [
    {
     "name": "stdout",
     "output_type": "stream",
     "text": [
      "Predicted answer is:  no\n",
      "Probability of certainty was:  0.9576301\n"
     ]
    }
   ],
   "source": [
    "#Generate prediction from model\n",
    "val_max = np.argmax(pred_results[0])\n",
    "\n",
    "for key, val in tokenizer.word_index.items():\n",
    "    if val == val_max:\n",
    "        k = key\n",
    "\n",
    "print(\"Predicted answer is: \", k)\n",
    "print(\"Probability of certainty was: \", pred_results[0][val_max])"
   ]
  },
  {
   "cell_type": "markdown",
   "metadata": {},
   "source": [
    "## Writing Your Own Stories and Questions\n",
    "\n",
    "Remember you can only use words from the existing vocab"
   ]
  },
  {
   "cell_type": "code",
   "execution_count": 68,
   "metadata": {},
   "outputs": [
    {
     "data": {
      "text/plain": [
       "{'.',\n",
       " '?',\n",
       " 'Daniel',\n",
       " 'Is',\n",
       " 'John',\n",
       " 'Mary',\n",
       " 'Sandra',\n",
       " 'apple',\n",
       " 'back',\n",
       " 'bathroom',\n",
       " 'bedroom',\n",
       " 'discarded',\n",
       " 'down',\n",
       " 'dropped',\n",
       " 'football',\n",
       " 'garden',\n",
       " 'got',\n",
       " 'grabbed',\n",
       " 'hallway',\n",
       " 'in',\n",
       " 'journeyed',\n",
       " 'kitchen',\n",
       " 'left',\n",
       " 'milk',\n",
       " 'moved',\n",
       " 'no',\n",
       " 'office',\n",
       " 'picked',\n",
       " 'put',\n",
       " 'the',\n",
       " 'there',\n",
       " 'to',\n",
       " 'took',\n",
       " 'travelled',\n",
       " 'up',\n",
       " 'went',\n",
       " 'yes'}"
      ]
     },
     "execution_count": 68,
     "metadata": {},
     "output_type": "execute_result"
    }
   ],
   "source": [
    "vocab"
   ]
  },
  {
   "cell_type": "code",
   "execution_count": 69,
   "metadata": {},
   "outputs": [
    {
     "data": {
      "text/plain": [
       "['John',\n",
       " 'left',\n",
       " 'the',\n",
       " 'kitchen',\n",
       " '.',\n",
       " 'Sandra',\n",
       " 'dropped',\n",
       " 'the',\n",
       " 'football',\n",
       " 'in',\n",
       " 'the',\n",
       " 'garden',\n",
       " '.']"
      ]
     },
     "execution_count": 69,
     "metadata": {},
     "output_type": "execute_result"
    }
   ],
   "source": [
    "# Note the whitespace of the periods\n",
    "my_story = \"John left the kitchen . Sandra dropped the football in the garden .\"\n",
    "my_story.split()"
   ]
  },
  {
   "cell_type": "code",
   "execution_count": 70,
   "metadata": {},
   "outputs": [],
   "source": [
    "my_question = \"Is the football in the garden ?\""
   ]
  },
  {
   "cell_type": "code",
   "execution_count": 71,
   "metadata": {},
   "outputs": [
    {
     "data": {
      "text/plain": [
       "['Is', 'the', 'football', 'in', 'the', 'garden', '?']"
      ]
     },
     "execution_count": 71,
     "metadata": {},
     "output_type": "execute_result"
    }
   ],
   "source": [
    "my_question.split()"
   ]
  },
  {
   "cell_type": "code",
   "execution_count": 72,
   "metadata": {},
   "outputs": [],
   "source": [
    "mydata = [(my_story.split(),my_question.split(),'yes')]"
   ]
  },
  {
   "cell_type": "code",
   "execution_count": 73,
   "metadata": {},
   "outputs": [],
   "source": [
    "my_story,my_ques,my_ans = vectorize_stories(mydata)"
   ]
  },
  {
   "cell_type": "code",
   "execution_count": 74,
   "metadata": {},
   "outputs": [
    {
     "name": "stdout",
     "output_type": "stream",
     "text": [
      "1/1 [==============================] - 0s 12ms/step\n"
     ]
    }
   ],
   "source": [
    "pred_results = model.predict(([ my_story, my_ques]))"
   ]
  },
  {
   "cell_type": "code",
   "execution_count": 75,
   "metadata": {},
   "outputs": [
    {
     "name": "stdout",
     "output_type": "stream",
     "text": [
      "Predicted answer is:  yes\n",
      "Probability of certainty was:  0.98712987\n"
     ]
    }
   ],
   "source": [
    "#Generate prediction from model\n",
    "val_max = np.argmax(pred_results[0])\n",
    "\n",
    "for key, val in tokenizer.word_index.items():\n",
    "    if val == val_max:\n",
    "        k = key\n",
    "\n",
    "print(\"Predicted answer is: \", k)\n",
    "print(\"Probability of certainty was: \", pred_results[0][val_max])"
   ]
  },
  {
   "cell_type": "code",
   "execution_count": null,
   "metadata": {},
   "outputs": [],
   "source": []
  }
 ],
 "metadata": {
  "kernelspec": {
   "display_name": "Python 3 (ipykernel)",
   "language": "python",
   "name": "python3"
  },
  "language_info": {
   "codemirror_mode": {
    "name": "ipython",
    "version": 3
   },
   "file_extension": ".py",
   "mimetype": "text/x-python",
   "name": "python",
   "nbconvert_exporter": "python",
   "pygments_lexer": "ipython3",
   "version": "3.11.5"
  }
 },
 "nbformat": 4,
 "nbformat_minor": 2
}
